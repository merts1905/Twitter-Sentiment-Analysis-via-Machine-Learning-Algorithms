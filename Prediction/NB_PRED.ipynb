{
 "cells": [
  {
   "cell_type": "code",
   "execution_count": 15,
   "metadata": {},
   "outputs": [
    {
     "name": "stdout",
     "output_type": "stream",
     "text": [
      "Total Data length 501\n"
     ]
    }
   ],
   "source": [
    "import pandas as pd\n",
    "import tweepy\n",
    "import csv\n",
    "import json\n",
    "\n",
    "\n",
    "ACCESS_TOKEN = ''\n",
    "ACCESS_SECRET = ''\n",
    "CONSUMER_KEY = ''\n",
    "CONSUMER_SECRET =''\n",
    "\n",
    "auth = tweepy.OAuthHandler(CONSUMER_KEY, CONSUMER_SECRET)\n",
    "auth.set_access_token(ACCESS_TOKEN, ACCESS_SECRET)\n",
    "api = tweepy.API(auth,wait_on_rate_limit=True)\n",
    "\n",
    "\n",
    "c = tweepy.Cursor(api.search, q='coronavirus', lang='en')\n",
    "\n",
    "count=201\n",
    "page_needed=int(count/15) + 3\n",
    "c.pages(page_needed)\n",
    "\n",
    "id_tweets = []\n",
    "date = []\n",
    "full_text_tweet =[]\n",
    "for tweet in c.items():\n",
    "    try:\n",
    "        tweet = api.get_status(tweet.id, count=200, tweet_mode=\"extended\")\n",
    "        full_text_tweet.append(tweet.full_text)\n",
    "        id_tweets.append(tweet.id)\n",
    "    except:\n",
    "        pass\n",
    "    if len(full_text_tweet)==count: \n",
    "        break       \n",
    "print(\"Total Data length\", len(full_text_tweet))"
   ]
  },
  {
   "cell_type": "code",
   "execution_count": null,
   "metadata": {},
   "outputs": [],
   "source": [
    "\n"
   ]
  },
  {
   "cell_type": "code",
   "execution_count": 16,
   "metadata": {},
   "outputs": [],
   "source": [
    "from sklearn.externals import joblib \n",
    "import string\n",
    "import re\n",
    "import pickle\n",
    "import pandas as pd\n",
    "from sklearn.base import TransformerMixin, BaseEstimator\n",
    "from nltk.stem import WordNetLemmatizer\n",
    "from nltk.tokenize import word_tokenize\n"
   ]
  },
  {
   "cell_type": "code",
   "execution_count": 17,
   "metadata": {},
   "outputs": [],
   "source": [
    "tweets = pd.Series(full_text_tweet)"
   ]
  },
  {
   "cell_type": "code",
   "execution_count": 18,
   "metadata": {},
   "outputs": [],
   "source": [
    "\n",
    "HAPPY_EMO = r\" ([xX;:]-?[dD)]|:-?[\\)]|[;:][pP]) \"\n",
    "SAD_EMO = r\" (:'?[/|\\(]) \"\n",
    "\n",
    "\n",
    "\n",
    "\n",
    "def lemmatize_tokenize(text):\n",
    "    lemmatizer = WordNetLemmatizer()\n",
    "    return [lemmatizer.lemmatize(token) for token in word_tokenize(text)]\n",
    "\n",
    "\n",
    "    \n",
    "\n",
    "class TextPreProc(BaseEstimator,TransformerMixin):\n",
    "    def __init__(self, use_mention=False):\n",
    "        self.use_mention = use_mention\n",
    "    \n",
    "    def fit(self, X, y=None):\n",
    "        return self\n",
    "    \n",
    "    def transform(self, X, y=None):\n",
    "        # We can choose between keeping the mentions\n",
    "        # or deleting them\n",
    "        if self.use_mention:\n",
    "            X = X.str.replace(r\"@[a-zA-Z0-9_]* \", \" @tags \")\n",
    "        else:\n",
    "            X = X.str.replace(r\"@[a-zA-Z0-9_]* \", \"\")\n",
    "            \n",
    "        # Keeping only the word after the #\n",
    "        X = X.str.replace(\"#\", \"\")\n",
    "        X = X.str.replace(r\"[-\\.\\n]\", \"\")\n",
    "        # Removing HTML garbage\n",
    "        X = X.str.replace(r\"&\\w+;\", \"\")\n",
    "        # Removing links\n",
    "        X = X.str.replace(r\"https?://\\S*\", \"\")\n",
    "        # replace repeated letters with only two occurences\n",
    "        # heeeelllloooo => heelloo\n",
    "        X = X.str.replace(r\"(.)\\1+\", r\"\\1\\1\")\n",
    "        # mark emoticons as happy or sad\n",
    "        X = X.str.replace(HAPPY_EMO, \" happyemoticons \")\n",
    "        X = X.str.replace(SAD_EMO, \" sademoticons \")\n",
    "        X = X.str.lower()\n",
    "        return X\n",
    "\n"
   ]
  },
  {
   "cell_type": "code",
   "execution_count": 19,
   "metadata": {},
   "outputs": [
    {
     "name": "stderr",
     "output_type": "stream",
     "text": [
      "C:\\Users\\Mert\\Anaconda3\\envs\\tensorflow\\lib\\site-packages\\sklearn\\base.py:253: UserWarning: Trying to unpickle estimator MultinomialNB from version 0.20.1 when using version 0.20.3. This might lead to breaking code or invalid results. Use at your own risk.\n",
      "  UserWarning)\n",
      "C:\\Users\\Mert\\Anaconda3\\envs\\tensorflow\\lib\\site-packages\\sklearn\\base.py:253: UserWarning: Trying to unpickle estimator TfidfTransformer from version 0.20.1 when using version 0.20.3. This might lead to breaking code or invalid results. Use at your own risk.\n",
      "  UserWarning)\n",
      "C:\\Users\\Mert\\Anaconda3\\envs\\tensorflow\\lib\\site-packages\\sklearn\\base.py:253: UserWarning: Trying to unpickle estimator TfidfVectorizer from version 0.20.1 when using version 0.20.3. This might lead to breaking code or invalid results. Use at your own risk.\n",
      "  UserWarning)\n",
      "C:\\Users\\Mert\\Anaconda3\\envs\\tensorflow\\lib\\site-packages\\sklearn\\base.py:253: UserWarning: Trying to unpickle estimator Pipeline from version 0.20.1 when using version 0.20.3. This might lead to breaking code or invalid results. Use at your own risk.\n",
      "  UserWarning)\n"
     ]
    }
   ],
   "source": [
    "#NV Model\n",
    "NV_model = joblib.load('NB_MODEL.pkl')\n",
    "#Feature Vector\n",
    "with open('NB_tokenizer.pickle', 'rb') as handle:\n",
    "    tokenizer = pickle.load(handle)\n"
   ]
  },
  {
   "cell_type": "code",
   "execution_count": 20,
   "metadata": {},
   "outputs": [
    {
     "name": "stderr",
     "output_type": "stream",
     "text": [
      "C:\\Users\\Mert\\Anaconda3\\envs\\tensorflow\\lib\\site-packages\\sklearn\\feature_extraction\\text.py:301: UserWarning: Your stop_words may be inconsistent with your preprocessing. Tokenizing the stop words generated tokens [\"'d\", \"'ll\", \"'re\", \"'s\", \"'ve\", 'could', 'doe', 'ha', 'might', 'must', \"n't\", 'need', 'sha', 'wa', 'wo', 'would'] not in stop_words.\n",
      "  'stop_words.' % sorted(inconsistent))\n"
     ]
    }
   ],
   "source": [
    "tweets = tokenizer.transform(tweets)"
   ]
  },
  {
   "cell_type": "code",
   "execution_count": 21,
   "metadata": {},
   "outputs": [],
   "source": [
    "pos_count=0\n",
    "neg_count=0\n",
    "neutral_count=0"
   ]
  },
  {
   "cell_type": "code",
   "execution_count": 22,
   "metadata": {},
   "outputs": [
    {
     "name": "stderr",
     "output_type": "stream",
     "text": [
      "C:\\Users\\Mert\\Anaconda3\\envs\\tensorflow\\lib\\site-packages\\ipykernel_launcher.py:26: FutureWarning: Passing a negative integer is deprecated in version 1.0 and will not be supported in future version. Instead, use None to not limit the column width.\n"
     ]
    }
   ],
   "source": [
    "sentiments=[]\n",
    "for i in range(len(full_text_tweet)):\n",
    "    result=NV_model.predict_proba(tweets[i])[0]\n",
    "    if result[0] > 0.60:\n",
    "        sentiments.append(\"😃\")\n",
    "        pos_count = pos_count+1\n",
    "\n",
    "        #print(\"Text : \" + full_text_tweet[i] + \" Sentiment : 😃\")\n",
    "    elif result[0] < 0.40:\n",
    "        sentiments.append(\"😔\")\n",
    "        neg_count = neg_count+1\n",
    "        #print(\"Text : \" + full_text_tweet[i] + \" Sentiment : 😔\")\n",
    "    else:\n",
    "        sentiments.append(\"😐\")\n",
    "        neutral_count=neutral_count+1\n",
    "\n",
    "        #print(\"Text : \" + full_text_tweet[i] + \" Sentiment : 😐\")\n",
    "         \n",
    "sentiments = pd.Series(sentiments, name=\"Sentiment\")\n",
    "full_text_tweet = pd.Series(full_text_tweet, name=\"Tweet\")        \n",
    "result_dataframe = pd.concat([full_text_tweet, sentiments], axis=1)\n",
    "\n",
    "\n",
    "pd.set_option('display.max_columns', 500)\n",
    "pd.set_option('display.max_rows', 500)\n",
    "pd.set_option('display.max_colwidth', -1)\n",
    "    "
   ]
  },
  {
   "cell_type": "code",
   "execution_count": 23,
   "metadata": {},
   "outputs": [
    {
     "data": {
      "text/html": [
       "<div>\n",
       "<style scoped>\n",
       "    .dataframe tbody tr th:only-of-type {\n",
       "        vertical-align: middle;\n",
       "    }\n",
       "\n",
       "    .dataframe tbody tr th {\n",
       "        vertical-align: top;\n",
       "    }\n",
       "\n",
       "    .dataframe thead th {\n",
       "        text-align: right;\n",
       "    }\n",
       "</style>\n",
       "<table border=\"1\" class=\"dataframe\">\n",
       "  <thead>\n",
       "    <tr style=\"text-align: right;\">\n",
       "      <th></th>\n",
       "      <th>Tweet</th>\n",
       "      <th>Sentiment</th>\n",
       "    </tr>\n",
       "  </thead>\n",
       "  <tbody>\n",
       "    <tr>\n",
       "      <th>0</th>\n",
       "      <td>RT @CanaryMugume: #Breaking: Uganda’s electoral commission has banned mass rallies for campaigns. Campaigns to be conducted  using media in…</td>\n",
       "      <td>😔</td>\n",
       "    </tr>\n",
       "    <tr>\n",
       "      <th>1</th>\n",
       "      <td>RT @realDonaldTrump: “Trump team should get 'a lot of credit' for fast coronavirus stimulus: CBO” https://t.co/TGVxgIfTAa</td>\n",
       "      <td>😔</td>\n",
       "    </tr>\n",
       "    <tr>\n",
       "      <th>2</th>\n",
       "      <td>RT @AmandaMckNews: Florida businesses, restaurants not required to report coronavirus cases among employees, officials say #FOX35 https://t…</td>\n",
       "      <td>😔</td>\n",
       "    </tr>\n",
       "    <tr>\n",
       "      <th>3</th>\n",
       "      <td>RT @SiemensHealth: Our new telemedicine solution enables remote care for patients with chronic diseases. The documentation and communicatio…</td>\n",
       "      <td>😔</td>\n",
       "    </tr>\n",
       "    <tr>\n",
       "      <th>4</th>\n",
       "      <td>RT @ScoreNigeria1: Ex-club #Wolfsburg wrong to let go #Osimhen says #Akpoborie https://t.co/GOCGml40rc #Nigeria #Football #Bundesliga #ligu…</td>\n",
       "      <td>😔</td>\n",
       "    </tr>\n",
       "    <tr>\n",
       "      <th>...</th>\n",
       "      <td>...</td>\n",
       "      <td>...</td>\n",
       "    </tr>\n",
       "    <tr>\n",
       "      <th>496</th>\n",
       "      <td>More than 100 jobs lost as Wicksteed Park enters administration due to ‘huge financial strain’ from coronavirus pandemic https://t.co/Occ8RcCy7L</td>\n",
       "      <td>😃</td>\n",
       "    </tr>\n",
       "    <tr>\n",
       "      <th>497</th>\n",
       "      <td>Property market proves ‘remarkably resilient’ as sellers return to market https://t.co/mi0cjXGw2e #property https://t.co/Z0JkkQEGEs</td>\n",
       "      <td>😔</td>\n",
       "    </tr>\n",
       "    <tr>\n",
       "      <th>498</th>\n",
       "      <td>RT @East_Riding: Do you run a B&amp;amp;B in the East Riding that pays council tax instead of business rates? You could be eligible for a grant of…</td>\n",
       "      <td>😐</td>\n",
       "    </tr>\n",
       "    <tr>\n",
       "      <th>499</th>\n",
       "      <td>RT @HeshmatAlavi: THREAD\\n\\n1)\\nAs criticism grows against China over the #coronavirus pandemic, it is worth noting the regime ruling #Iran is…</td>\n",
       "      <td>😐</td>\n",
       "    </tr>\n",
       "    <tr>\n",
       "      <th>500</th>\n",
       "      <td>Coronavirus: fake news less of a problem than confusing government messages – new study https://t.co/YARUMuMght https://t.co/3FrnB8tlEi</td>\n",
       "      <td>😐</td>\n",
       "    </tr>\n",
       "  </tbody>\n",
       "</table>\n",
       "<p>501 rows × 2 columns</p>\n",
       "</div>"
      ],
      "text/plain": [
       "                                                                                                                                                Tweet  \\\n",
       "0    RT @CanaryMugume: #Breaking: Uganda’s electoral commission has banned mass rallies for campaigns. Campaigns to be conducted  using media in…       \n",
       "1    RT @realDonaldTrump: “Trump team should get 'a lot of credit' for fast coronavirus stimulus: CBO” https://t.co/TGVxgIfTAa                          \n",
       "2    RT @AmandaMckNews: Florida businesses, restaurants not required to report coronavirus cases among employees, officials say #FOX35 https://t…       \n",
       "3    RT @SiemensHealth: Our new telemedicine solution enables remote care for patients with chronic diseases. The documentation and communicatio…       \n",
       "4    RT @ScoreNigeria1: Ex-club #Wolfsburg wrong to let go #Osimhen says #Akpoborie https://t.co/GOCGml40rc #Nigeria #Football #Bundesliga #ligu…       \n",
       "..                                                                                                                                            ...       \n",
       "496  More than 100 jobs lost as Wicksteed Park enters administration due to ‘huge financial strain’ from coronavirus pandemic https://t.co/Occ8RcCy7L   \n",
       "497  Property market proves ‘remarkably resilient’ as sellers return to market https://t.co/mi0cjXGw2e #property https://t.co/Z0JkkQEGEs                \n",
       "498  RT @East_Riding: Do you run a B&amp;B in the East Riding that pays council tax instead of business rates? You could be eligible for a grant of…    \n",
       "499  RT @HeshmatAlavi: THREAD\\n\\n1)\\nAs criticism grows against China over the #coronavirus pandemic, it is worth noting the regime ruling #Iran is…    \n",
       "500  Coronavirus: fake news less of a problem than confusing government messages – new study https://t.co/YARUMuMght https://t.co/3FrnB8tlEi            \n",
       "\n",
       "    Sentiment  \n",
       "0    😔         \n",
       "1    😔         \n",
       "2    😔         \n",
       "3    😔         \n",
       "4    😔         \n",
       "..  ..         \n",
       "496  😃         \n",
       "497  😔         \n",
       "498  😐         \n",
       "499  😐         \n",
       "500  😐         \n",
       "\n",
       "[501 rows x 2 columns]"
      ]
     },
     "execution_count": 23,
     "metadata": {},
     "output_type": "execute_result"
    }
   ],
   "source": [
    "result_dataframe\n"
   ]
  },
  {
   "cell_type": "code",
   "execution_count": 24,
   "metadata": {},
   "outputs": [
    {
     "data": {
      "image/png": "[encoded data removed]",
      "text/plain": [
       "<Figure size 432x288 with 1 Axes>"
      ]
     },
     "metadata": {},
     "output_type": "display_data"
    }
   ],
   "source": [
    "from matplotlib import pyplot as plt\n",
    "import numpy as np\n",
    "fig = plt.figure()\n",
    "ax = fig.add_axes([0,0,1,1])\n",
    "ax.axis('equal')\n",
    "langs = ['positive', 'neutral', 'negative']\n",
    "prediction = [pos_count,neutral_count,neg_count]\n",
    "ax.pie(prediction, labels = langs,autopct='%1.2f%%')\n",
    "plt.show()"
   ]
  },
  {
   "cell_type": "code",
   "execution_count": null,
   "metadata": {},
   "outputs": [],
   "source": []
  },
  {
   "cell_type": "code",
   "execution_count": null,
   "metadata": {},
   "outputs": [],
   "source": []
  },
  {
   "cell_type": "code",
   "execution_count": null,
   "metadata": {},
   "outputs": [],
   "source": []
  }
 ],
 "metadata": {
  "kernelspec": {
   "display_name": "Python 3",
   "language": "python",
   "name": "python3"
  },
  "language_info": {
   "codemirror_mode": {
    "name": "ipython",
    "version": 3
   },
   "file_extension": ".py",
   "mimetype": "text/x-python",
   "name": "python",
   "nbconvert_exporter": "python",
   "pygments_lexer": "ipython3",
   "version": "3.7.7"
  }
 },
 "nbformat": 4,
 "nbformat_minor": 2
}
